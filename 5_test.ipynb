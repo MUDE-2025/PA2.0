{
 "cells": [
  {
   "cell_type": "markdown",
   "id": "d14e9d93",
   "metadata": {},
   "source": [
    "# Execute python code in VS code in your `mude-base` environment.\n"
   ]
  },
  {
   "cell_type": "markdown",
   "id": "49c7419b",
   "metadata": {},
   "source": [
    "In a simple sense, Jupyter Notebooks are documents that consist of many _cells._ Some _cells_ are formatted text (Markdown, like this one), others can be used to execute Python code. Because we have already set up a _conda environment_ that includes the Python programming language, all we have to do is tell VS Code (VSC) which environment to use and it will take care of sending the code in the Python cells to the environment so that they can be executed as desired. Then the _output_ from running that code is displayed in the space below the Python cell from which it was executed. Let's try it with a simple `print()` statement!"
   ]
  },
  {
   "cell_type": "markdown",
   "id": "3d48b83e",
   "metadata": {},
   "source": [
    "<div style=\"background-color:#AABAB2; color: black; width:90%; vertical-align: middle; padding:15px; margin: 10px; border-radius: 10px\">\n",
    "<p>\n",
    "\n",
    "$\\text{Task 5.1: Open file in VS Code}$\n",
    "    \n",
    "Download [this file](https://mude.citg.tudelft.nl/workbook-2025/_sources/assignments/PA1.1/5_test.ipynb) (the one you're looking at) and store it in a working directory like explained in the [book](https://mude.citg.tudelft.nl/book/2025/programming/week_1_1/files.html)\n",
    "    \n",
    "</p>\n",
    "</div>"
   ]
  },
  {
   "cell_type": "markdown",
   "id": "fae14e4b",
   "metadata": {},
   "source": [
    "<div style=\"background-color:#AABAB2; color: black; width:90%; vertical-align: middle; padding:15px; margin: 10px; border-radius: 10px\">\n",
    "<p>\n",
    "\n",
    "$\\text{Task 5.2: Run python cell}$\n",
    "    \n",
    "Confirm that Python and your conda environment are working properly by running the cell below. If you did the installation correctly, this should involve the following:\n",
    "<ol>\n",
    "    <li>Click the triangular \"run\" icon next to the cell.</li>\n",
    "    <li>At the top of your VSC window you will be asked to select a Python environment. Choose the conda environment you just created, <code>mude-base</code></li>\n",
    "    <li>Confirm that the output of the cell is generated as expected.</li>\n",
    "    <li>That's it!</li>\n",
    "</ol>\n",
    "<em>Note that you might also be prompted to install a few VSC extensions, if you did not already do so in exercise 3. Read the message carefully so you know what VSC is installing; however, note that you don't really have to do anything except hit \"yes\" because VSC is pretty good at getting Python to run on your computer.</em>\n",
    "    \n",
    "</p>\n",
    "</div>"
   ]
  },
  {
   "cell_type": "code",
   "execution_count": null,
   "id": "46016f72",
   "metadata": {
    "tags": [
     "assignment"
    ]
   },
   "outputs": [],
   "source": [
    "import sys\n",
    "\n",
    "print(\"If you're connected to the mude-base environment,\\nit should show up in the path below:\\n\",sys.executable)"
   ]
  },
  {
   "cell_type": "markdown",
   "id": "2e4617c0",
   "metadata": {},
   "source": [
    "> By Tom van Woudenberg and Robert Lanzafame, Delft University of Technology. CC BY 4.0, more info [on the Credits page of Workbook](https://mude.citg.tudelft.nl/workbook-2025/credits.html)."
   ]
  }
 ],
 "metadata": {
  "kernelspec": {
   "display_name": "mude-base",
   "language": "python",
   "name": "python3"
  },
  "language_info": {
   "codemirror_mode": {
    "name": "ipython",
    "version": 3
   },
   "file_extension": ".py",
   "mimetype": "text/x-python",
   "name": "python",
   "nbconvert_exporter": "python",
   "pygments_lexer": "ipython3",
   "version": "3.12.11"
  }
 },
 "nbformat": 4,
 "nbformat_minor": 5
}
