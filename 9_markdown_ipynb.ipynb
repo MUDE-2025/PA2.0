{
 "cells": [
  {
   "cell_type": "markdown",
   "id": "77eeb530",
   "metadata": {},
   "source": [
    "# Markdown in a Jupyter notebook file"
   ]
  },
  {
   "cell_type": "markdown",
   "id": "df22f795",
   "metadata": {},
   "source": [
    "<div style=\"background-color:#AABAB2; color: black; width:90%; vertical-align: middle; padding:15px; margin: 10px; border-radius: 10px\">\n",
    "<p>\n",
    "\n",
    "$\\text{Task 9.1:}$\n",
    "    \n",
    "Run the cell below to create an image which is stored in a subdirectory auxiliary files. Then, show the figure in the next markdown cell.\n",
    "    \n",
    "</p>\n",
    "</div>"
   ]
  },
  {
   "cell_type": "code",
   "execution_count": null,
   "id": "c08cf8ab",
   "metadata": {},
   "outputs": [],
   "source": [
    "import numpy as np\n",
    "import matplotlib.pyplot as plt\n",
    "import os\n",
    "\n",
    "# Create the _figure directory if it doesn't exist\n",
    "os.makedirs('auxiliary_files', exist_ok=True)\n",
    "\n",
    "x = np.linspace(0, 2 * np.pi, 100)\n",
    "y = np.sin(x)\n",
    "\n",
    "# Create a simple plot\n",
    "plt.figure(figsize=(8, 6))\n",
    "plt.plot(x, y, 'b-', linewidth=2, label='sin(x)')\n",
    "plt.xlabel('x')\n",
    "plt.ylabel('sin(x)')\n",
    "plt.title('Simple Sine Wave')\n",
    "plt.grid(True, alpha=0.3)\n",
    "plt.legend()\n",
    "plt.savefig('auxiliary_files/sine_wave.svg', bbox_inches='tight')\n",
    "plt.close()\n",
    "\n",
    "print(\"Figure saved to auxiliary_files/sine_wave.svg\")"
   ]
  },
  {
   "cell_type": "markdown",
   "id": "79a2d938",
   "metadata": {},
   "source": [
    "% YOUR MARKDOWN CODE HERE"
   ]
  },
  {
   "cell_type": "markdown",
   "id": "85ea57c3",
   "metadata": {},
   "source": [
    "<div style=\"background-color:#FAE99E; color: black; vertical-align: middle; padding:15px; margin: 10px; border-radius: 10px; width: 90%\">\n",
    "<p>\n",
    "\n",
    "$\\text{Solution 9.1:}$\n",
    "\n",
    "The required markdown syntax is: `![](./auxiliary_files/sine_wave.svg)`\n",
    "\n",
    "</p></div>\n",
    "\n",
    "![](./auxiliary_files/sine_wave.png)"
   ]
  },
  {
   "cell_type": "markdown",
   "id": "769847d3",
   "metadata": {},
   "source": [
    "> By Tom van Woudenberg, Delft University of Technology. CC BY 4.0, more info [on the Credits page of Workbook](https://mude.citg.tudelft.nl/workbook-2025/credits.html)."
   ]
  }
 ],
 "metadata": {
  "kernelspec": {
   "display_name": "base",
   "language": "python",
   "name": "python3"
  },
  "language_info": {
   "codemirror_mode": {
    "name": "ipython",
    "version": 3
   },
   "file_extension": ".py",
   "mimetype": "text/x-python",
   "name": "python",
   "nbconvert_exporter": "python",
   "pygments_lexer": "ipython3",
   "version": "3.12.11"
  }
 },
 "nbformat": 4,
 "nbformat_minor": 5
}
